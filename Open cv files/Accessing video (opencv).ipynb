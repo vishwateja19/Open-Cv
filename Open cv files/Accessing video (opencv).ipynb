{
 "cells": [
  {
   "cell_type": "code",
   "execution_count": 1,
   "id": "67bd8810",
   "metadata": {},
   "outputs": [],
   "source": [
    "import numpy as np\n",
    "import cv2"
   ]
  },
  {
   "cell_type": "code",
   "execution_count": 2,
   "id": "b3ed77e6",
   "metadata": {},
   "outputs": [
    {
     "name": "stdout",
     "output_type": "stream",
     "text": [
      "(True, array([[[247, 177, 107],\n",
      "        [247, 177, 107],\n",
      "        [247, 177, 107],\n",
      "        ...,\n",
      "        [209, 127,  73],\n",
      "        [209, 127,  73],\n",
      "        [209, 127,  73]],\n",
      "\n",
      "       [[247, 177, 107],\n",
      "        [247, 177, 107],\n",
      "        [247, 177, 107],\n",
      "        ...,\n",
      "        [209, 127,  73],\n",
      "        [209, 127,  73],\n",
      "        [209, 127,  73]],\n",
      "\n",
      "       [[247, 177, 107],\n",
      "        [247, 177, 107],\n",
      "        [247, 177, 107],\n",
      "        ...,\n",
      "        [209, 127,  73],\n",
      "        [209, 127,  73],\n",
      "        [209, 127,  73]],\n",
      "\n",
      "       ...,\n",
      "\n",
      "       [[ 52,  34,  24],\n",
      "        [ 52,  34,  24],\n",
      "        [ 51,  33,  23],\n",
      "        ...,\n",
      "        [  9,   9,   7],\n",
      "        [  8,   8,   6],\n",
      "        [  6,   6,   4]],\n",
      "\n",
      "       [[ 51,  33,  23],\n",
      "        [ 50,  32,  22],\n",
      "        [ 51,  33,  23],\n",
      "        ...,\n",
      "        [  9,   9,   7],\n",
      "        [  8,   8,   6],\n",
      "        [  6,   6,   4]],\n",
      "\n",
      "       [[ 50,  32,  22],\n",
      "        [ 50,  32,  22],\n",
      "        [ 51,  33,  23],\n",
      "        ...,\n",
      "        [  9,   9,   7],\n",
      "        [  6,   6,   4],\n",
      "        [  5,   5,   3]]], dtype=uint8))\n"
     ]
    }
   ],
   "source": [
    "## going with webcam\n",
    "\n",
    "\n",
    "cap=cv2.VideoCapture('./video.mp4')\n",
    "print(cap.read())\n",
    "\n",
    "while True:\n",
    "    res,frames=cap.read()\n",
    "    if res== True:\n",
    "        cv2.imshow('video',frames)\n",
    "        if cv2.waitKey(10)& 0xFF==ord('q'):\n",
    "            break\n",
    "    else:\n",
    "        break\n",
    "cv2.destroyAllWindows()\n",
    "cap.release()\n",
    "    "
   ]
  },
  {
   "cell_type": "code",
   "execution_count": 3,
   "id": "c3092652",
   "metadata": {},
   "outputs": [
    {
     "name": "stdout",
     "output_type": "stream",
     "text": [
      "3840.0\n",
      "2160.0\n"
     ]
    }
   ],
   "source": [
    "## checking height and width\n",
    "\n",
    "cap=cv2.VideoCapture('./video.mp4')\\\n",
    "\n",
    "\n",
    "print(cap.get(3))\n",
    "print(cap.get(4))\n",
    "\n",
    "while True:\n",
    "    res,frames=cap.read()\n",
    "    if res==True:\n",
    "        cv2.imshow('video',frames)\n",
    "        if cv2.waitKey(10)& 0xFF==ord('q'):\n",
    "            break\n",
    "    else:\n",
    "        break\n",
    "cv2.destroyAllWindows()\n",
    "cap.release()\n",
    "        \n",
    "        "
   ]
  },
  {
   "cell_type": "code",
   "execution_count": 4,
   "id": "336ea45e",
   "metadata": {},
   "outputs": [
    {
     "name": "stdout",
     "output_type": "stream",
     "text": [
      "3840.0\n",
      "2160.0\n"
     ]
    }
   ],
   "source": [
    "## placing height and width on each frames\n",
    "\n",
    "cap=cv2.VideoCapture('./video.mp4')\n",
    "\n",
    "\n",
    "print(cap.get(3))\n",
    "print(cap.get(4))\n",
    "\n",
    "while True:\n",
    "    res,frames=cap.read()\n",
    "    if res== True:\n",
    "        text='width: '+ str(cap.get(3)) +  'Height: '+ str(cap.get(4))\n",
    "        font=cv2.FONT_HERSHEY_COMPLEX\n",
    "        cv2.putText(frames,text,(100,100),font,1,(0,0,255),1)\n",
    "        cv2.imshow('video',frames)\n",
    "        if cv2.waitKey(10)& 0xFF==ord('q'):\n",
    "            break\n",
    "    else:\n",
    "        break\n",
    "cv2.destroyAllWindows()\n",
    "cap.release()\n",
    "        \n",
    "        "
   ]
  },
  {
   "cell_type": "code",
   "execution_count": 6,
   "id": "5bae399e",
   "metadata": {},
   "outputs": [
    {
     "data": {
      "text/plain": [
       "datetime.datetime(2023, 2, 21, 18, 27, 35, 923916)"
      ]
     },
     "execution_count": 6,
     "metadata": {},
     "output_type": "execute_result"
    }
   ],
   "source": [
    "import datetime\n",
    "\n",
    "datetime.datetime.now()"
   ]
  },
  {
   "cell_type": "code",
   "execution_count": 7,
   "id": "a6df259a",
   "metadata": {},
   "outputs": [],
   "source": [
    "## put date and time\n",
    "\n",
    "cap=cv2.VideoCapture('./video.mp4')\n",
    "\n",
    "while True:\n",
    "    res,frames=cap.read()\n",
    "    if res==True:\n",
    "        date=datetime.datetime.now()\n",
    "        text=str(date)\n",
    "        font=cv2.FONT_HERSHEY_COMPLEX\n",
    "        cv2.putText(frames,text,(80,80), font,1,(255,0,255),2)\n",
    "        cv2.imshow('video',frames)\n",
    "        if cv2.waitKey(10)& 0xFF==ord('q'):\n",
    "            break\n",
    "    else:\n",
    "        break\n",
    "        \n",
    "cv2.destroyAllWindows()\n",
    "cap.release()\n",
    "        "
   ]
  },
  {
   "cell_type": "code",
   "execution_count": null,
   "id": "0f612ea4",
   "metadata": {},
   "outputs": [],
   "source": []
  },
  {
   "cell_type": "code",
   "execution_count": null,
   "id": "97e67e82",
   "metadata": {},
   "outputs": [],
   "source": []
  }
 ],
 "metadata": {
  "kernelspec": {
   "display_name": "Python 3 (ipykernel)",
   "language": "python",
   "name": "python3"
  },
  "language_info": {
   "codemirror_mode": {
    "name": "ipython",
    "version": 3
   },
   "file_extension": ".py",
   "mimetype": "text/x-python",
   "name": "python",
   "nbconvert_exporter": "python",
   "pygments_lexer": "ipython3",
   "version": "3.9.12"
  }
 },
 "nbformat": 4,
 "nbformat_minor": 5
}
