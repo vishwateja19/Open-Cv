{
 "cells": [
  {
   "cell_type": "raw",
   "id": "d9dcce57",
   "metadata": {},
   "source": [
    "For bluring an image we are using following 4 ways:"
   ]
  },
  {
   "cell_type": "raw",
   "id": "c07940a0",
   "metadata": {},
   "source": [
    "-Homogenius methods (Filter2d) (uses mean of neighbourhood pixels)\n",
    "\n",
    "-Bilateral Method (Blur) (uses average same as homogenious)\n",
    "\n",
    "-Gaussian filter (Gaussian) (uses high pixel in the middle and low pixels in the edges)\n",
    "\n",
    "-Median (just uses median of the Neighbourhood)\n",
    "\n",
    "-for making blur we need to use low intensity values inside kernels"
   ]
  },
  {
   "cell_type": "code",
   "execution_count": 1,
   "id": "535c7993",
   "metadata": {},
   "outputs": [],
   "source": [
    "import numpy as np\n",
    "import cv2\n",
    "import matplotlib.pyplot as plt"
   ]
  },
  {
   "cell_type": "code",
   "execution_count": 2,
   "id": "860bcd36",
   "metadata": {},
   "outputs": [],
   "source": [
    "color_image=cv2.imread('./images/lena_color_512.tif',1)\n",
    "cv2.imshow('image',color_image)\n",
    "cv2.waitKey()\n",
    "cv2.destroyAllWindows()"
   ]
  },
  {
   "cell_type": "code",
   "execution_count": 3,
   "id": "e38ece45",
   "metadata": {},
   "outputs": [],
   "source": [
    "## filter 2d:\n",
    "\n",
    "kernal=np.array([[1,1,1],[1,1,1],[1,1,1]],dtype=np.float32)/9.0\n",
    "\n",
    "blur_res= cv2.filter2D(color_image,-1,kernal)\n",
    "cv2.imshow('blur',blur_res)\n",
    "cv2.imshow('color',color_image)\n",
    "cv2.waitKey()\n",
    "cv2.destroyAllWindows()"
   ]
  },
  {
   "cell_type": "code",
   "execution_count": 4,
   "id": "0fe05377",
   "metadata": {},
   "outputs": [],
   "source": [
    "kernal=np.array([[1,1,1],[1,1,1],[1,1,1]],dtype=np.float32)/49.0\n",
    "\n",
    "blur_res= cv2.filter2D(color_image,-1,kernal)\n",
    "cv2.imshow('blur',blur_res)\n",
    "cv2.imshow('color',color_image)\n",
    "cv2.waitKey()\n",
    "cv2.destroyAllWindows()"
   ]
  },
  {
   "cell_type": "code",
   "execution_count": 5,
   "id": "00e2c2e5",
   "metadata": {},
   "outputs": [],
   "source": [
    "kernal=np.ones((5,5),np.float64)/25.0\n",
    "blur_res=cv2.filter2D(color_image,-1,kernal)\n",
    "blur_res_1=cv2.blur(color_image,(5,5))\n",
    "\n",
    "cv2.imshow('Blur',blur_res_1)\n",
    "cv2.imshow('filter',blur_res)\n",
    "cv2.imshow('color',color_image)\n",
    "cv2.waitKey()\n",
    "cv2.destroyAllWindows()"
   ]
  },
  {
   "cell_type": "code",
   "execution_count": 6,
   "id": "26075754",
   "metadata": {},
   "outputs": [],
   "source": [
    "## gaussian filter\n",
    "\n",
    "blur_res_1=cv2.GaussianBlur(color_image,(7,7),0)\n",
    "cv2.imshow('gaussian',blur_res_1)\n",
    "\n",
    "cv2.imshow('color',color_image)\n",
    "cv2.waitKey()\n",
    "cv2.destroyAllWindows()"
   ]
  },
  {
   "cell_type": "code",
   "execution_count": 7,
   "id": "670119fd",
   "metadata": {},
   "outputs": [],
   "source": [
    "## median\n",
    "\n",
    "blur_res_1=cv2.medianBlur(color_image,9)\n",
    "cv2.imshow('median',blur_res_1)\n",
    "\n",
    "cv2.imshow('color',color_image)\n",
    "cv2.waitKey()\n",
    "cv2.destroyAllWindows()"
   ]
  },
  {
   "cell_type": "markdown",
   "id": "09250de4",
   "metadata": {},
   "source": [
    "## Image sharpen"
   ]
  },
  {
   "cell_type": "code",
   "execution_count": 11,
   "id": "ed9d3a1c",
   "metadata": {},
   "outputs": [],
   "source": [
    "kernel=np.array([[0,-1,0],[-1,5,-1],[0,-1,0]],dtype=np.float32)\n",
    "\n",
    "sharp=cv2.filter2D(color_image,-1,kernel)\n",
    "cv2.imshow('s',sharp)\n",
    "cv2.imshow('color',color_image)\n",
    "cv2.waitKey()\n",
    "cv2.destroyAllWindows()\n"
   ]
  },
  {
   "cell_type": "code",
   "execution_count": null,
   "id": "05cff812",
   "metadata": {},
   "outputs": [],
   "source": []
  },
  {
   "cell_type": "code",
   "execution_count": null,
   "id": "2159153e",
   "metadata": {},
   "outputs": [],
   "source": []
  },
  {
   "cell_type": "code",
   "execution_count": null,
   "id": "20ed57dc",
   "metadata": {},
   "outputs": [],
   "source": []
  }
 ],
 "metadata": {
  "kernelspec": {
   "display_name": "Python 3 (ipykernel)",
   "language": "python",
   "name": "python3"
  },
  "language_info": {
   "codemirror_mode": {
    "name": "ipython",
    "version": 3
   },
   "file_extension": ".py",
   "mimetype": "text/x-python",
   "name": "python",
   "nbconvert_exporter": "python",
   "pygments_lexer": "ipython3",
   "version": "3.9.12"
  }
 },
 "nbformat": 4,
 "nbformat_minor": 5
}
